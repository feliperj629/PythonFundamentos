{
 "cells": [
  {
   "cell_type": "markdown",
   "id": "91987581",
   "metadata": {},
   "source": [
    "# <font color='blue'>TESte - Python Fundamentos</font>\n",
    "# <font color='blue'>Capítulo 1</font>"
   ]
  },
  {
   "cell_type": "markdown",
   "id": "8079591f",
   "metadata": {},
   "source": [
    "## Como Utilizar o Jupyter Notebook"
   ]
  },
  {
   "cell_type": "markdown",
   "id": "1df42a0d",
   "metadata": {},
   "source": [
    "import()"
   ]
  },
  {
   "cell_type": "code",
   "execution_count": null,
   "id": "8d5f9206",
   "metadata": {},
   "outputs": [],
   "source": []
  },
  {
   "cell_type": "code",
   "execution_count": 10,
   "id": "8d8d37b1",
   "metadata": {},
   "outputs": [],
   "source": [
    "# <font color='blue'>Data Science Academy - Python Fundamentos</font>\n",
    "# <font color='blue'>Capítulo 1</font>\n"
   ]
  },
  {
   "cell_type": "code",
   "execution_count": null,
   "id": "b14b6612",
   "metadata": {},
   "outputs": [],
   "source": []
  },
  {
   "cell_type": "code",
   "execution_count": null,
   "id": "ffe1ee55",
   "metadata": {},
   "outputs": [],
   "source": []
  }
 ],
 "metadata": {
  "kernelspec": {
   "display_name": "Python 3 (ipykernel)",
   "language": "python",
   "name": "python3"
  },
  "language_info": {
   "codemirror_mode": {
    "name": "ipython",
    "version": 3
   },
   "file_extension": ".py",
   "mimetype": "text/x-python",
   "name": "python",
   "nbconvert_exporter": "python",
   "pygments_lexer": "ipython3",
   "version": "3.9.12"
  }
 },
 "nbformat": 4,
 "nbformat_minor": 5
}
