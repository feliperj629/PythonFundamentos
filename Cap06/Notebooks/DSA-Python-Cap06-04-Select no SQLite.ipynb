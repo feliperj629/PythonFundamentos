{
 "cells": [
  {
   "cell_type": "markdown",
   "metadata": {},
   "source": [
    "# <font color='blue'>Data Science Academy - Python Fundamentos - Capítulo 6</font>\n",
    "\n",
    "## Download: http://github.com/dsacademybr"
   ]
  },
  {
   "cell_type": "code",
   "execution_count": 1,
   "metadata": {},
   "outputs": [
    {
     "name": "stdout",
     "output_type": "stream",
     "text": [
      "Versão da Linguagem Python Usada Neste Jupyter Notebook: 3.8.8\n"
     ]
    }
   ],
   "source": [
    "# Versão da Linguagem Python\n",
    "from platform import python_version\n",
    "print('Versão da Linguagem Python Usada Neste Jupyter Notebook:', python_version())"
   ]
  },
  {
   "cell_type": "markdown",
   "metadata": {},
   "source": [
    "### Leitura de dados"
   ]
  },
  {
   "cell_type": "code",
   "execution_count": 1,
   "metadata": {},
   "outputs": [],
   "source": [
    "import sqlite3\n",
    "import random\n",
    "import time\n",
    "import datetime\n",
    " \n",
    "# Criando uma conexão\n",
    "conn = sqlite3.connect('dsa.db')   \n",
    "\n",
    "# Criando um cursor\n",
    "c = conn.cursor()\n",
    " \n",
    "# Função para criar uma tabela\n",
    "def create_table():\n",
    "    c.execute('CREATE TABLE IF NOT EXISTS produtos(id INTEGER PRIMARY KEY AUTOINCREMENT NOT NULL, date TEXT, '\\\n",
    "              'prod_name TEXT, valor REAL)')\n",
    "\n",
    "# Função para inserir uma linha\n",
    "def data_insert():\n",
    "    c.execute(\"INSERT INTO produtos VALUES(002, '02-05-2020', 'teclado', 130 )\")\n",
    "    conn.commit()\n",
    "    c.close()\n",
    "    conn.close()\n",
    "    \n",
    "# Usando variáveis para inserir dados    \n",
    "def data_insert_var():\n",
    "    new_date = datetime.datetime.now()\n",
    "    new_prod_name = 'monitor'\n",
    "    new_valor = random.randrange(50,100)\n",
    "    c.execute(\"INSERT INTO produtos (date, prod_name, valor) VALUES (?, ?, ?, ?)\", \n",
    "              (new_date, new_prod_name, new_valor))\n",
    "    conn.commit()\n",
    "    \n",
    "# Leitura de dados\n",
    "def leitura_todos_dados():\n",
    "    c.execute(\"SELECT * FROM PRODUTOS\")\n",
    "    for linha in c.fetchall():\n",
    "        print(linha)\n",
    "        \n",
    "# Leitura de registros específicos\n",
    "def leitura_registros():\n",
    "    c.execute(\"SELECT * FROM PRODUTOS WHERE valor > 60.0\")\n",
    "    for linha in c.fetchall():\n",
    "        print(linha)      \n",
    "        \n",
    "# Leitura de colunas específicos\n",
    "def leitura_colunas():\n",
    "    c.execute(\"SELECT * FROM PRODUTOS\")\n",
    "    for linha in c.fetchall():\n",
    "        print(linha[3])         \n"
   ]
  },
  {
   "cell_type": "code",
   "execution_count": 2,
   "metadata": {},
   "outputs": [
    {
     "name": "stdout",
     "output_type": "stream",
     "text": [
      "(10, '2020-05-02 14:32:11', 'Teclado', 90.0)\n",
      "(11, '2022-05-31 15:01:48.908438', 'Monitor', 99.0)\n",
      "(12, '2022-05-31 15:01:49.932094', 'Monitor', 68.0)\n",
      "(13, '2022-05-31 15:01:50.947541', 'Monitor', 74.0)\n",
      "(14, '2022-05-31 15:01:51.960058', 'Monitor', 67.0)\n",
      "(15, '2022-05-31 15:01:52.976922', 'Monitor', 83.0)\n",
      "(16, '2022-05-31 15:01:53.988610', 'Monitor', 58.0)\n",
      "(17, '2022-05-31 15:01:55.001789', 'Monitor', 62.0)\n",
      "(18, '2022-05-31 15:01:56.016505', 'Monitor', 79.0)\n",
      "(19, '2022-05-31 15:01:57.032616', 'Monitor', 74.0)\n",
      "(20, '2022-05-31 15:01:58.054376', 'Monitor', 57.0)\n",
      "(30, '2020-05-02 14:32:11', 'Teclado', 90.0)\n",
      "(31, '2022-05-31 15:05:54.590188', 'Monitor', 99.0)\n",
      "(32, '2022-05-31 15:05:55.609488', 'Monitor', 96.0)\n",
      "(33, '2022-05-31 15:05:56.625843', 'Monitor', 53.0)\n",
      "(34, '2022-05-31 15:05:57.644024', 'Monitor', 93.0)\n",
      "(35, '2022-05-31 15:05:58.673502', 'Monitor', 50.0)\n",
      "(36, '2022-05-31 15:05:59.690278', 'Monitor', 86.0)\n",
      "(37, '2022-05-31 15:06:00.719305', 'Monitor', 52.0)\n",
      "(38, '2022-05-31 15:06:01.735445', 'Monitor', 92.0)\n",
      "(39, '2022-05-31 15:06:02.751005', 'Monitor', 69.0)\n",
      "(40, '2022-05-31 15:06:03.780359', 'Monitor', 64.0)\n",
      "(50, '2020-05-02 14:32:11', 'Teclado', 90.0)\n",
      "(51, '2022-05-31 15:06:52.935725', 'Monitor', 83.0)\n",
      "(52, '2022-05-31 15:06:53.950562', 'Monitor', 92.0)\n",
      "(53, '2022-05-31 15:06:54.967636', 'Monitor', 89.0)\n",
      "(54, '2022-05-31 15:06:55.983188', 'Monitor', 60.0)\n",
      "(55, '2022-05-31 15:06:56.998165', 'Monitor', 50.0)\n",
      "(56, '2022-05-31 15:06:58.012720', 'Monitor', 70.0)\n",
      "(57, '2022-05-31 15:06:59.031469', 'Monitor', 57.0)\n",
      "(58, '2022-05-31 15:07:00.049077', 'Monitor', 51.0)\n",
      "(59, '2022-05-31 15:07:01.065475', 'Monitor', 66.0)\n",
      "(60, '2022-05-31 15:07:02.087317', 'Monitor', 62.0)\n"
     ]
    }
   ],
   "source": [
    "# Select nos dados\n",
    "leitura_todos_dados()"
   ]
  },
  {
   "cell_type": "code",
   "execution_count": 3,
   "metadata": {},
   "outputs": [
    {
     "name": "stdout",
     "output_type": "stream",
     "text": [
      "(10, '2020-05-02 14:32:11', 'Teclado', 90.0)\n",
      "(11, '2022-05-31 15:01:48.908438', 'Monitor', 99.0)\n",
      "(12, '2022-05-31 15:01:49.932094', 'Monitor', 68.0)\n",
      "(13, '2022-05-31 15:01:50.947541', 'Monitor', 74.0)\n",
      "(14, '2022-05-31 15:01:51.960058', 'Monitor', 67.0)\n",
      "(15, '2022-05-31 15:01:52.976922', 'Monitor', 83.0)\n",
      "(17, '2022-05-31 15:01:55.001789', 'Monitor', 62.0)\n",
      "(18, '2022-05-31 15:01:56.016505', 'Monitor', 79.0)\n",
      "(19, '2022-05-31 15:01:57.032616', 'Monitor', 74.0)\n",
      "(30, '2020-05-02 14:32:11', 'Teclado', 90.0)\n",
      "(31, '2022-05-31 15:05:54.590188', 'Monitor', 99.0)\n",
      "(32, '2022-05-31 15:05:55.609488', 'Monitor', 96.0)\n",
      "(34, '2022-05-31 15:05:57.644024', 'Monitor', 93.0)\n",
      "(36, '2022-05-31 15:05:59.690278', 'Monitor', 86.0)\n",
      "(38, '2022-05-31 15:06:01.735445', 'Monitor', 92.0)\n",
      "(39, '2022-05-31 15:06:02.751005', 'Monitor', 69.0)\n",
      "(40, '2022-05-31 15:06:03.780359', 'Monitor', 64.0)\n",
      "(50, '2020-05-02 14:32:11', 'Teclado', 90.0)\n",
      "(51, '2022-05-31 15:06:52.935725', 'Monitor', 83.0)\n",
      "(52, '2022-05-31 15:06:53.950562', 'Monitor', 92.0)\n",
      "(53, '2022-05-31 15:06:54.967636', 'Monitor', 89.0)\n",
      "(56, '2022-05-31 15:06:58.012720', 'Monitor', 70.0)\n",
      "(59, '2022-05-31 15:07:01.065475', 'Monitor', 66.0)\n",
      "(60, '2022-05-31 15:07:02.087317', 'Monitor', 62.0)\n"
     ]
    }
   ],
   "source": [
    "# Leitura de registros específicos\n",
    "leitura_registros()"
   ]
  },
  {
   "cell_type": "code",
   "execution_count": 4,
   "metadata": {},
   "outputs": [
    {
     "name": "stdout",
     "output_type": "stream",
     "text": [
      "90.0\n",
      "99.0\n",
      "68.0\n",
      "74.0\n",
      "67.0\n",
      "83.0\n",
      "58.0\n",
      "62.0\n",
      "79.0\n",
      "74.0\n",
      "57.0\n",
      "90.0\n",
      "99.0\n",
      "96.0\n",
      "53.0\n",
      "93.0\n",
      "50.0\n",
      "86.0\n",
      "52.0\n",
      "92.0\n",
      "69.0\n",
      "64.0\n",
      "90.0\n",
      "83.0\n",
      "92.0\n",
      "89.0\n",
      "60.0\n",
      "50.0\n",
      "70.0\n",
      "57.0\n",
      "51.0\n",
      "66.0\n",
      "62.0\n"
     ]
    }
   ],
   "source": [
    "# Leitura de colunas específicas\n",
    "leitura_colunas()"
   ]
  },
  {
   "cell_type": "code",
   "execution_count": 5,
   "metadata": {},
   "outputs": [],
   "source": [
    "# Encerrando a conexão\n",
    "c.close()\n",
    "conn.close()"
   ]
  },
  {
   "cell_type": "markdown",
   "metadata": {},
   "source": [
    "# Fim"
   ]
  },
  {
   "cell_type": "markdown",
   "metadata": {},
   "source": [
    "### Obrigado\n",
    "\n",
    "### Visite o Blog da Data Science Academy - <a href=\"http://blog.dsacademy.com.br\">Blog DSA</a>"
   ]
  }
 ],
 "metadata": {
  "kernelspec": {
   "display_name": "Python 3 (ipykernel)",
   "language": "python",
   "name": "python3"
  },
  "language_info": {
   "codemirror_mode": {
    "name": "ipython",
    "version": 3
   },
   "file_extension": ".py",
   "mimetype": "text/x-python",
   "name": "python",
   "nbconvert_exporter": "python",
   "pygments_lexer": "ipython3",
   "version": "3.9.12"
  }
 },
 "nbformat": 4,
 "nbformat_minor": 1
}
